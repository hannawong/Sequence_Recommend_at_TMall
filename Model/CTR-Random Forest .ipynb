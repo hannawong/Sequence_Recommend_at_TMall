{
 "cells": [
  {
   "cell_type": "code",
   "execution_count": 12,
   "metadata": {},
   "outputs": [],
   "source": [
    "import pickle as pkl\n",
    "import pandas as pd\n",
    "import random\n",
    "import numpy as np\n",
    "from collections import Counter"
   ]
  },
  {
   "cell_type": "code",
   "execution_count": 2,
   "metadata": {},
   "outputs": [],
   "source": [
    "RAW_DATA_FILE = 'data/UserBehavior_sample.csv'  # input\n",
    "MAX_LEN_ITEM = 200   ### TODO: Get length distribution from *edav*"
   ]
  },
  {
   "cell_type": "code",
   "execution_count": 3,
   "metadata": {},
   "outputs": [],
   "source": [
    "def remap(df):  \n",
    "    '''\n",
    "    remap every id into [0,total_feature_num]. For embedding table use.\n",
    "    '''\n",
    "    ##### map item id\n",
    "    item_key = sorted(df['iid'].unique().tolist())\n",
    "    item_len = len(item_key)\n",
    "    item_map = dict(zip(item_key, range(item_len)))\n",
    "    df['iid'] = df['iid'].map(lambda x: item_map[x])\n",
    "    ##### map user id\n",
    "    user_key = sorted(df['uid'].unique().tolist())\n",
    "    user_len = len(user_key)\n",
    "    user_map = dict(zip(user_key, range(item_len, item_len + user_len)))\n",
    "    df['uid'] = df['uid'].map(lambda x: user_map[x])\n",
    "    ## map category id\n",
    "    cate_key = sorted(df['cid'].unique().tolist())\n",
    "    cate_len = len(cate_key)\n",
    "    cate_map = dict(zip(cate_key, range(user_len + item_len, user_len + item_len + cate_len)))\n",
    "    df['cid'] = df['cid'].map(lambda x: cate_map[x])\n",
    "    return df, item_len"
   ]
  },
  {
   "cell_type": "code",
   "execution_count": 4,
   "metadata": {},
   "outputs": [],
   "source": [
    "def gen_dataset(user_df, item_df, item_cnt):\n",
    "\n",
    "    user_last_touch_time = []  ## the last interaction time of each user ###\n",
    "\n",
    "    for uid, history in user_df:  ###history is a dataframe for each user, with column [\"uid\",\"iid\",\"cid\",\"btag\",\"time\"], sorted by timestamp\n",
    "        user_last_touch_time.append(list(history['time'])[-1])\n",
    "\n",
    "    user_last_touch_time_sorted = sorted(user_last_touch_time)\n",
    "    #### split test and training set with time, to prevent future information leak ####\n",
    "    split_time = user_last_touch_time_sorted[int(len(user_last_touch_time_sorted) * 0.7)] \n",
    "\n",
    "    cnt = 0\n",
    "    test_uid=[]\n",
    "    #### Create feature from raw data\n",
    "    uid_list=[]\n",
    "    hist_len=[]\n",
    "    target_iid=[]\n",
    "    target_cid=[]\n",
    "    label=[]\n",
    "    most_freq_cid=[]\n",
    "    most_freq_iid=[]\n",
    "    buy_num=[]\n",
    "    fav_num=[]\n",
    "    cart_num=[]\n",
    "    pv_num=[]\n",
    "    for uid, history in user_df:\n",
    "        \n",
    "        ######### get history #######\n",
    "        item_hist = list(history['iid'])\n",
    "        cate_hist = list(history['cid'])\n",
    "        btag_hist = list(history['btag'])\n",
    "\n",
    "        ######## target item is the last touch ########\n",
    "        target_item = item_hist[-1]\n",
    "        uid_list.append(uid)\n",
    "        hist_len.append(len(item_hist)-1)\n",
    "        target_iid.append(target_item)\n",
    "        target_cid.append(cate_hist[-1])\n",
    "        label.append(1)  # positive sample\n",
    "        most_freq_cid.append(history.cid.mode()[0])\n",
    "        most_freq_iid.append(history.iid.mode()[0])\n",
    "        buy_num.append(Counter(history.btag)['buy'])\n",
    "        fav_num.append(Counter(history.btag)['fav'])\n",
    "        pv_num.append(Counter(history.btag)['pv'])\n",
    "        cart_num.append(Counter(history.btag)['cart'])\n",
    "        if list(history['time'])[-1] > split_time: # decide whether test or train\n",
    "            test_uid.append(uid)\n",
    "        \n",
    "\n",
    "        #############    negative sampling   ###############\n",
    "        ## TODO: only use random negative sampling now. Should change it to in-batch\n",
    "        ## negative sampling, with hard negative sampling method or negative sampling\n",
    "        ## based on frequency prediction (Youtube Two Tower)\n",
    "\n",
    "        neg = random.randint(0, 1)\n",
    "        #if neg == 1:\n",
    "        \n",
    "        while target_item == item_hist[-1]: ## must be different than target item\n",
    "            label.append(0)\n",
    "            target_item = random.randint(0, item_cnt - 1)\n",
    "            target_item_cate = item_df.get_group(target_item)['cid'].tolist()[0]\n",
    "\n",
    "            uid_list.append(uid)\n",
    "            hist_len.append(len(item_hist)-1)\n",
    "            target_iid.append(target_item)\n",
    "            target_cid.append(target_item_cate)\n",
    "            most_freq_cid.append(history.cid.mode()[0])\n",
    "            most_freq_iid.append(history.iid.mode()[0])\n",
    "            buy_num.append(Counter(history.btag)['buy'])\n",
    "            fav_num.append(Counter(history.btag)['fav'])\n",
    "            pv_num.append(Counter(history.btag)['pv'])\n",
    "            cart_num.append(Counter(history.btag)['cart'])\n",
    "    \n",
    "    data=pd.DataFrame()\n",
    "    data['uid']=uid_list\n",
    "    data['hist_len']=hist_len\n",
    "    data['most_freq_cid']=most_freq_cid\n",
    "    data['most_freq_iid']=most_freq_iid\n",
    "    data['buy_num']=buy_num\n",
    "    data['fav_num']=fav_num\n",
    "    data['pv_num']=pv_num\n",
    "    data['cart_num']=cart_num\n",
    "    data['target_iid']=target_iid\n",
    "    data['target_cid']=target_cid\n",
    "    data['label']=label\n",
    "    \n",
    "    dev_df=data[~data['uid'].isin(test_uid)]\n",
    "    dev_X = dev_df.drop(columns=['label','uid'])\n",
    "    dev_y = dev_df['label']\n",
    "    \n",
    "    test_df=data[data['uid'].isin(test_uid)]\n",
    "    test_X = test_df.drop(columns=['label','uid'])\n",
    "    test_y = test_df['label']\n",
    "\n",
    "    return dev_X, dev_y, test_X, test_y"
   ]
  },
  {
   "cell_type": "code",
   "execution_count": 5,
   "metadata": {},
   "outputs": [],
   "source": [
    "df = pd.read_csv(RAW_DATA_FILE, header=None, names=['uid', 'iid', 'cid', 'btag', 'time'])"
   ]
  },
  {
   "cell_type": "code",
   "execution_count": 6,
   "metadata": {},
   "outputs": [],
   "source": [
    "df, item_cnt= remap(df)"
   ]
  },
  {
   "cell_type": "code",
   "execution_count": 7,
   "metadata": {},
   "outputs": [],
   "source": [
    "item_key = sorted(df['iid'].unique().tolist())\n",
    "item_len = len(item_key) #count number of unique item\n",
    "item_map = dict(zip(item_key, range(item_len)))"
   ]
  },
  {
   "cell_type": "code",
   "execution_count": 8,
   "metadata": {},
   "outputs": [],
   "source": [
    "user_df = df.sort_values(['uid', 'time']).groupby('uid')\n",
    "item_df = df.sort_values(['iid', 'time']).groupby('iid')"
   ]
  },
  {
   "cell_type": "code",
   "execution_count": 9,
   "metadata": {},
   "outputs": [
    {
     "data": {
      "text/html": [
       "<div>\n",
       "<style scoped>\n",
       "    .dataframe tbody tr th:only-of-type {\n",
       "        vertical-align: middle;\n",
       "    }\n",
       "\n",
       "    .dataframe tbody tr th {\n",
       "        vertical-align: top;\n",
       "    }\n",
       "\n",
       "    .dataframe thead th {\n",
       "        text-align: right;\n",
       "    }\n",
       "</style>\n",
       "<table border=\"1\" class=\"dataframe\">\n",
       "  <thead>\n",
       "    <tr style=\"text-align: right;\">\n",
       "      <th></th>\n",
       "      <th>uid</th>\n",
       "      <th>iid</th>\n",
       "      <th>cid</th>\n",
       "      <th>btag</th>\n",
       "      <th>time</th>\n",
       "    </tr>\n",
       "  </thead>\n",
       "  <tbody>\n",
       "    <tr>\n",
       "      <th>402974</th>\n",
       "      <td>242381</td>\n",
       "      <td>114843</td>\n",
       "      <td>251340</td>\n",
       "      <td>pv</td>\n",
       "      <td>1511942464</td>\n",
       "    </tr>\n",
       "    <tr>\n",
       "      <th>370826</th>\n",
       "      <td>246945</td>\n",
       "      <td>114843</td>\n",
       "      <td>251340</td>\n",
       "      <td>pv</td>\n",
       "      <td>1512037321</td>\n",
       "    </tr>\n",
       "    <tr>\n",
       "      <th>180558</th>\n",
       "      <td>245295</td>\n",
       "      <td>114843</td>\n",
       "      <td>251340</td>\n",
       "      <td>pv</td>\n",
       "      <td>1512222109</td>\n",
       "    </tr>\n",
       "    <tr>\n",
       "      <th>405240</th>\n",
       "      <td>242858</td>\n",
       "      <td>114843</td>\n",
       "      <td>251340</td>\n",
       "      <td>pv</td>\n",
       "      <td>1512281441</td>\n",
       "    </tr>\n",
       "    <tr>\n",
       "      <th>116092</th>\n",
       "      <td>244712</td>\n",
       "      <td>114843</td>\n",
       "      <td>251340</td>\n",
       "      <td>pv</td>\n",
       "      <td>1512309260</td>\n",
       "    </tr>\n",
       "  </tbody>\n",
       "</table>\n",
       "</div>"
      ],
      "text/plain": [
       "           uid     iid     cid btag        time\n",
       "402974  242381  114843  251340   pv  1511942464\n",
       "370826  246945  114843  251340   pv  1512037321\n",
       "180558  245295  114843  251340   pv  1512222109\n",
       "405240  242858  114843  251340   pv  1512281441\n",
       "116092  244712  114843  251340   pv  1512309260"
      ]
     },
     "execution_count": 9,
     "metadata": {},
     "output_type": "execute_result"
    }
   ],
   "source": [
    "item_df.get_group(114843)"
   ]
  },
  {
   "cell_type": "markdown",
   "metadata": {},
   "source": [
    "# Default random forest"
   ]
  },
  {
   "cell_type": "code",
   "execution_count": 13,
   "metadata": {},
   "outputs": [],
   "source": [
    "dev_X, dev_y, test_X, test_y = gen_dataset(user_df, item_df, item_cnt)"
   ]
  },
  {
   "cell_type": "code",
   "execution_count": 14,
   "metadata": {},
   "outputs": [
    {
     "data": {
      "text/html": [
       "<div>\n",
       "<style scoped>\n",
       "    .dataframe tbody tr th:only-of-type {\n",
       "        vertical-align: middle;\n",
       "    }\n",
       "\n",
       "    .dataframe tbody tr th {\n",
       "        vertical-align: top;\n",
       "    }\n",
       "\n",
       "    .dataframe thead th {\n",
       "        text-align: right;\n",
       "    }\n",
       "</style>\n",
       "<table border=\"1\" class=\"dataframe\">\n",
       "  <thead>\n",
       "    <tr style=\"text-align: right;\">\n",
       "      <th></th>\n",
       "      <th>hist_len</th>\n",
       "      <th>most_freq_cid</th>\n",
       "      <th>most_freq_iid</th>\n",
       "      <th>buy_num</th>\n",
       "      <th>fav_num</th>\n",
       "      <th>pv_num</th>\n",
       "      <th>cart_num</th>\n",
       "      <th>target_iid</th>\n",
       "      <th>target_cid</th>\n",
       "    </tr>\n",
       "  </thead>\n",
       "  <tbody>\n",
       "    <tr>\n",
       "      <th>0</th>\n",
       "      <td>54</td>\n",
       "      <td>249485</td>\n",
       "      <td>232527</td>\n",
       "      <td>0</td>\n",
       "      <td>0</td>\n",
       "      <td>55</td>\n",
       "      <td>0</td>\n",
       "      <td>26715</td>\n",
       "      <td>248483</td>\n",
       "    </tr>\n",
       "    <tr>\n",
       "      <th>1</th>\n",
       "      <td>54</td>\n",
       "      <td>249485</td>\n",
       "      <td>232527</td>\n",
       "      <td>0</td>\n",
       "      <td>0</td>\n",
       "      <td>55</td>\n",
       "      <td>0</td>\n",
       "      <td>144320</td>\n",
       "      <td>251302</td>\n",
       "    </tr>\n",
       "    <tr>\n",
       "      <th>2</th>\n",
       "      <td>97</td>\n",
       "      <td>250022</td>\n",
       "      <td>152225</td>\n",
       "      <td>8</td>\n",
       "      <td>6</td>\n",
       "      <td>84</td>\n",
       "      <td>0</td>\n",
       "      <td>56808</td>\n",
       "      <td>249332</td>\n",
       "    </tr>\n",
       "    <tr>\n",
       "      <th>3</th>\n",
       "      <td>97</td>\n",
       "      <td>250022</td>\n",
       "      <td>152225</td>\n",
       "      <td>8</td>\n",
       "      <td>6</td>\n",
       "      <td>84</td>\n",
       "      <td>0</td>\n",
       "      <td>78261</td>\n",
       "      <td>251302</td>\n",
       "    </tr>\n",
       "    <tr>\n",
       "      <th>4</th>\n",
       "      <td>80</td>\n",
       "      <td>250730</td>\n",
       "      <td>85376</td>\n",
       "      <td>0</td>\n",
       "      <td>12</td>\n",
       "      <td>67</td>\n",
       "      <td>2</td>\n",
       "      <td>164381</td>\n",
       "      <td>249242</td>\n",
       "    </tr>\n",
       "  </tbody>\n",
       "</table>\n",
       "</div>"
      ],
      "text/plain": [
       "   hist_len  most_freq_cid  most_freq_iid  buy_num  fav_num  pv_num  cart_num  \\\n",
       "0        54         249485         232527        0        0      55         0   \n",
       "1        54         249485         232527        0        0      55         0   \n",
       "2        97         250022         152225        8        6      84         0   \n",
       "3        97         250022         152225        8        6      84         0   \n",
       "4        80         250730          85376        0       12      67         2   \n",
       "\n",
       "   target_iid  target_cid  \n",
       "0       26715      248483  \n",
       "1      144320      251302  \n",
       "2       56808      249332  \n",
       "3       78261      251302  \n",
       "4      164381      249242  "
      ]
     },
     "execution_count": 14,
     "metadata": {},
     "output_type": "execute_result"
    }
   ],
   "source": [
    "dev_X.head()"
   ]
  },
  {
   "cell_type": "code",
   "execution_count": 15,
   "metadata": {},
   "outputs": [],
   "source": [
    "from sklearn.ensemble import RandomForestClassifier\n",
    "from sklearn.metrics import accuracy_score\n",
    "rfc = RandomForestClassifier(n_estimators=2000, max_depth=5)\n",
    "rfc.fit(dev_X, dev_y)\n",
    "\n",
    "y_pred = rfc.predict(test_X)"
   ]
  },
  {
   "cell_type": "code",
   "execution_count": 16,
   "metadata": {},
   "outputs": [
    {
     "data": {
      "text/plain": [
       "Counter({0: 1546, 1: 1366})"
      ]
     },
     "execution_count": 16,
     "metadata": {},
     "output_type": "execute_result"
    }
   ],
   "source": [
    "Counter(y_pred)"
   ]
  },
  {
   "cell_type": "code",
   "execution_count": 17,
   "metadata": {},
   "outputs": [
    {
     "data": {
      "text/plain": [
       "0.540521978021978"
      ]
     },
     "execution_count": 17,
     "metadata": {},
     "output_type": "execute_result"
    }
   ],
   "source": [
    "from sklearn import metrics\n",
    "fpr, tpr, thresholds = metrics.roc_curve(test_y, y_pred)\n",
    "metrics.auc(fpr, tpr)"
   ]
  },
  {
   "cell_type": "markdown",
   "metadata": {},
   "source": [
    "## Tune hyperparameters "
   ]
  },
  {
   "cell_type": "code",
   "execution_count": 18,
   "metadata": {},
   "outputs": [
    {
     "name": "stderr",
     "output_type": "stream",
     "text": [
      "/opt/anaconda3/lib/python3.7/site-packages/sklearn/base.py:442: UserWarning: X does not have valid feature names, but RandomForestClassifier was fitted with feature names\n",
      "  \"X does not have valid feature names, but\"\n"
     ]
    }
   ],
   "source": [
    "from sklearn.model_selection import GridSearchCV\n",
    "rf = RandomForestClassifier(max_features='auto', oob_score=True, random_state=1, n_jobs=-1,warm_start=True)\n",
    "param_grid = { \"min_samples_leaf\" : [1, 5, 10], \"max_depth\" : [4,5,6], \"n_estimators\": [100,500,1000,1500]}\n",
    "gs = GridSearchCV(estimator=rf, param_grid=param_grid, scoring='roc_auc', cv=5, n_jobs=-1)\n",
    "gs = gs.fit(dev_X, dev_y)"
   ]
  },
  {
   "cell_type": "code",
   "execution_count": 19,
   "metadata": {},
   "outputs": [
    {
     "data": {
      "text/plain": [
       "{'max_depth': 6, 'min_samples_leaf': 1, 'n_estimators': 1500}"
      ]
     },
     "execution_count": 19,
     "metadata": {},
     "output_type": "execute_result"
    }
   ],
   "source": [
    "gs.best_params_"
   ]
  },
  {
   "cell_type": "code",
   "execution_count": 20,
   "metadata": {},
   "outputs": [
    {
     "data": {
      "text/plain": [
       "0.562011678200692"
      ]
     },
     "execution_count": 20,
     "metadata": {},
     "output_type": "execute_result"
    }
   ],
   "source": [
    "gs.best_score_"
   ]
  },
  {
   "cell_type": "code",
   "execution_count": 21,
   "metadata": {},
   "outputs": [],
   "source": [
    "pred_y=gs.best_estimator_.predict(test_X)"
   ]
  },
  {
   "cell_type": "code",
   "execution_count": 22,
   "metadata": {},
   "outputs": [
    {
     "data": {
      "text/plain": [
       "0.5436126373626373"
      ]
     },
     "execution_count": 22,
     "metadata": {},
     "output_type": "execute_result"
    }
   ],
   "source": [
    "fpr, tpr, thresholds = metrics.roc_curve(test_y, pred_y)\n",
    "metrics.auc(fpr, tpr)"
   ]
  },
  {
   "cell_type": "code",
   "execution_count": 23,
   "metadata": {},
   "outputs": [
    {
     "data": {
      "text/plain": [
       "0.5436126373626373"
      ]
     },
     "execution_count": 23,
     "metadata": {},
     "output_type": "execute_result"
    }
   ],
   "source": [
    "metrics.accuracy_score(test_y, pred_y)"
   ]
  },
  {
   "cell_type": "code",
   "execution_count": null,
   "metadata": {},
   "outputs": [],
   "source": []
  }
 ],
 "metadata": {
  "kernelspec": {
   "display_name": "Python 3",
   "language": "python",
   "name": "python3"
  },
  "language_info": {
   "codemirror_mode": {
    "name": "ipython",
    "version": 3
   },
   "file_extension": ".py",
   "mimetype": "text/x-python",
   "name": "python",
   "nbconvert_exporter": "python",
   "pygments_lexer": "ipython3",
   "version": "3.7.6"
  }
 },
 "nbformat": 4,
 "nbformat_minor": 4
}
